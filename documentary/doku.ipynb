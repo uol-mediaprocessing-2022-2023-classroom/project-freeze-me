{
 "cells": [
  {
   "cell_type": "markdown",
   "metadata": {
    "pycharm": {
     "name": "#%%\n"
    }
   },
   "source": [
    "Langzeitbelichtung"
   ]
  },
  {
   "cell_type": "code",
   "execution_count": 25,
   "metadata": {},
   "outputs": [],
   "source": [
    "import cv2 as cv\n",
    "from tqdm import tqdm\n",
    "import numpy as np"
   ]
  },
  {
   "cell_type": "code",
   "execution_count": 8,
   "metadata": {},
   "outputs": [],
   "source": [
    "######################################################################\n",
    "# read video #########################################################\n",
    "######################################################################\n",
    "video = cv.VideoCapture(cv.samples.findFileOrKeep(\"./example1.mp4\"))"
   ]
  },
  {
   "cell_type": "code",
   "execution_count": 3,
   "metadata": {},
   "outputs": [],
   "source": [
    "def averager():\n",
    "    \"\"\"Calculate the average using a closure.\"\"\"\n",
    "    count = 0\n",
    "    total = 0.0\n",
    "\n",
    "    def average(value):\n",
    "        nonlocal count, total\n",
    "        count += 1\n",
    "        total += value\n",
    "        return total / count\n",
    "\n",
    "    return average"
   ]
  },
  {
   "cell_type": "code",
   "execution_count": 9,
   "metadata": {},
   "outputs": [
    {
     "name": "stderr",
     "output_type": "stream",
     "text": [
      "  4%|▎         | 24/653 [00:02<01:01, 10.28it/s]\n"
     ]
    },
    {
     "ename": "KeyboardInterrupt",
     "evalue": "",
     "output_type": "error",
     "traceback": [
      "\u001B[1;31m---------------------------------------------------------------------------\u001B[0m",
      "\u001B[1;31mKeyboardInterrupt\u001B[0m                         Traceback (most recent call last)",
      "Cell \u001B[1;32mIn[9], line 16\u001B[0m\n\u001B[0;32m     14\u001B[0m         b_curr, g_curr, r_curr \u001B[38;5;241m=\u001B[39m cv\u001B[38;5;241m.\u001B[39msplit(frame\u001B[38;5;241m.\u001B[39mastype(\u001B[38;5;124m\"\u001B[39m\u001B[38;5;124mfloat\u001B[39m\u001B[38;5;124m\"\u001B[39m))\n\u001B[0;32m     15\u001B[0m         \u001B[38;5;66;03m# add r, b and g to average (per pixel basis)\u001B[39;00m\n\u001B[1;32m---> 16\u001B[0m         r, g, b \u001B[38;5;241m=\u001B[39m r_avg(r_curr), g_avg(g_curr), \u001B[43mb_avg\u001B[49m\u001B[43m(\u001B[49m\u001B[43mb_curr\u001B[49m\u001B[43m)\u001B[49m\n\u001B[0;32m     18\u001B[0m \u001B[38;5;66;03m# merge r, b and g matrices to pixel matrix\u001B[39;00m\n\u001B[0;32m     19\u001B[0m avg \u001B[38;5;241m=\u001B[39m cv\u001B[38;5;241m.\u001B[39mmerge([b, g, r])\u001B[38;5;241m.\u001B[39mastype(\u001B[38;5;124m\"\u001B[39m\u001B[38;5;124muint8\u001B[39m\u001B[38;5;124m\"\u001B[39m)\n",
      "Cell \u001B[1;32mIn[3], line 10\u001B[0m, in \u001B[0;36maverager.<locals>.average\u001B[1;34m(value)\u001B[0m\n\u001B[0;32m      8\u001B[0m count \u001B[38;5;241m+\u001B[39m\u001B[38;5;241m=\u001B[39m \u001B[38;5;241m1\u001B[39m\n\u001B[0;32m      9\u001B[0m total \u001B[38;5;241m+\u001B[39m\u001B[38;5;241m=\u001B[39m value\n\u001B[1;32m---> 10\u001B[0m \u001B[38;5;28;01mreturn\u001B[39;00m \u001B[43mtotal\u001B[49m\u001B[43m \u001B[49m\u001B[38;5;241;43m/\u001B[39;49m\u001B[43m \u001B[49m\u001B[43mcount\u001B[49m\n",
      "\u001B[1;31mKeyboardInterrupt\u001B[0m: "
     ]
    }
   ],
   "source": [
    "######################################################################\n",
    "# calculate r, b and g average from every frame ######################\n",
    "######################################################################\n",
    "step = 1\n",
    "r, g, b = None, None, None\n",
    "r_avg, g_avg, b_avg = averager(), averager(), averager()\n",
    "total_frames = int(video.get(cv.CAP_PROP_FRAME_COUNT))\n",
    "for count in tqdm(range(total_frames)):\n",
    "    # Split the frame into its respective channels\n",
    "    _, frame = video.read()\n",
    "\n",
    "    if count % step == 0 and frame is not None:\n",
    "        # separate frame into r, b and g matrices\n",
    "        b_curr, g_curr, r_curr = cv.split(frame.astype(\"float\"))\n",
    "        # add r, b and g to average (per pixel basis)\n",
    "        r, g, b = r_avg(r_curr), g_avg(g_curr), b_avg(b_curr)\n",
    "\n",
    "# merge r, b and g matrices to pixel matrix\n",
    "avg = cv.merge([b, g, r]).astype(\"uint8\")"
   ]
  },
  {
   "cell_type": "code",
   "execution_count": 5,
   "metadata": {},
   "outputs": [],
   "source": [
    "######################################################################\n",
    "# show average as image ##############################################\n",
    "######################################################################\n",
    "cv.imshow('Langzeitbelichtung', avg)\n",
    "cv.waitKey(0)\n",
    "cv.destroyAllWindows()"
   ]
  },
  {
   "cell_type": "markdown",
   "metadata": {},
   "source": [
    "Foreground mask from last frame"
   ]
  },
  {
   "cell_type": "code",
   "execution_count": 13,
   "metadata": {},
   "outputs": [],
   "source": [
    "######################################################################\n",
    "# setup & read video #################################################\n",
    "######################################################################\n",
    "background_subtraction = cv.createBackgroundSubtractorMOG2()\n",
    "video = cv.VideoCapture(cv.samples.findFileOrKeep(video_path))"
   ]
  },
  {
   "cell_type": "code",
   "execution_count": 14,
   "metadata": {},
   "outputs": [],
   "source": [
    "######################################################################\n",
    "# get foreground mask from last frame ################################\n",
    "######################################################################\n",
    "while True:\n",
    "    ret, frame = video.read()\n",
    "    if frame is None:\n",
    "        break\n",
    "\n",
    "    fg_mask = background_subtraction.apply(frame)"
   ]
  },
  {
   "cell_type": "code",
   "execution_count": 15,
   "metadata": {},
   "outputs": [],
   "source": [
    "######################################################################\n",
    "# show foreground mask ###############################################\n",
    "######################################################################\n",
    "cv.imshow('Vordergrundmaske', fg_mask)\n",
    "cv.waitKey(0)\n",
    "cv.destroyAllWindows()"
   ]
  },
  {
   "cell_type": "markdown",
   "metadata": {},
   "source": [
    "Background from last frame"
   ]
  },
  {
   "cell_type": "code",
   "execution_count": 19,
   "metadata": {},
   "outputs": [],
   "source": [
    "######################################################################\n",
    "# setup & read video #################################################\n",
    "######################################################################\n",
    "background_subtraction = cv.createBackgroundSubtractorMOG2()\n",
    "video = cv.VideoCapture(cv.samples.findFileOrKeep(video_path))"
   ]
  },
  {
   "cell_type": "code",
   "execution_count": 20,
   "metadata": {},
   "outputs": [],
   "source": [
    "######################################################################\n",
    "# get background from last frame #####################################\n",
    "######################################################################\n",
    "while True:\n",
    "    ret, frame = video.read()\n",
    "    if frame is None:\n",
    "        break\n",
    "\n",
    "    background_subtraction.apply(frame)\n",
    "\n",
    "# save background image to specified image path\n",
    "bg_image = background_subtraction.getBackgroundImage()"
   ]
  },
  {
   "cell_type": "code",
   "execution_count": 21,
   "metadata": {},
   "outputs": [],
   "source": [
    "######################################################################\n",
    "# show background ####################################################\n",
    "######################################################################\n",
    "cv.imshow('Hintergrund', bg_image)\n",
    "cv.waitKey(0)\n",
    "cv.destroyAllWindows()"
   ]
  },
  {
   "cell_type": "markdown",
   "metadata": {},
   "source": [
    "Canny Edge Detection from last frame"
   ]
  },
  {
   "cell_type": "code",
   "execution_count": 26,
   "metadata": {},
   "outputs": [],
   "source": [
    "######################################################################\n",
    "# setup & read video #################################################\n",
    "######################################################################\n",
    "video = cv.VideoCapture(cv.samples.findFileOrKeep(video_path))"
   ]
  },
  {
   "cell_type": "code",
   "execution_count": 27,
   "metadata": {},
   "outputs": [],
   "source": [
    "######################################################################\n",
    "# get foreground mask from last frame ################################\n",
    "######################################################################\n",
    "while True:\n",
    "    ret, frame = video.read()\n",
    "    if frame is None:\n",
    "        break\n",
    "\n",
    "    sigma = 0.3\n",
    "    median = np.median(frame)\n",
    "    lower = int(max(0, (1.0 - sigma) * median))\n",
    "    upper = int(min(255, (1.0 + sigma) * median))\n",
    "    edges = cv.Canny(frame, lower, upper)"
   ]
  },
  {
   "cell_type": "code",
   "execution_count": 28,
   "metadata": {},
   "outputs": [],
   "source": [
    "######################################################################\n",
    "# show edges #########################################################\n",
    "######################################################################\n",
    "cv.imshow('Hintergrund', edges)\n",
    "cv.waitKey(0)\n",
    "cv.destroyAllWindows()"
   ]
  }
 ],
 "metadata": {
  "kernelspec": {
   "display_name": "Python 3 (ipykernel)",
   "language": "python",
   "name": "python3"
  },
  "language_info": {
   "codemirror_mode": {
    "name": "ipython",
    "version": 3
   },
   "file_extension": ".py",
   "mimetype": "text/x-python",
   "name": "python",
   "nbconvert_exporter": "python",
   "pygments_lexer": "ipython3",
   "version": "3.9.15"
  }
 },
 "nbformat": 4,
 "nbformat_minor": 1
}